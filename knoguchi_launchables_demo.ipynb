{
 "cells": [
  {
   "cell_type": "markdown",
   "id": "18ebb6a3-a2d4-41ab-be82-b2662742dfc5",
   "metadata": {},
   "source": [
    "Install Everything "
   ]
  },
  {
   "cell_type": "code",
   "execution_count": 4,
   "id": "2ef2aca8-9767-43a1-a0f0-4148b4436a82",
   "metadata": {},
   "source": [
    "!./install.sh"
   ]
  }
}
